{
 "cells": [
  {
   "cell_type": "markdown",
   "metadata": {
    "id": "H9wADwK78DCz"
   },
   "source": [
    "# Proyek Analisis Data: E-Commerce Public Dataset\n",
    "- **Nama:** Farhan Alamsyah\n",
    "- **Email:** farhanalamsyah099@gmail.com\n",
    "- **ID Dicoding:** Farhan alamsyah"
   ]
  },
  {
   "cell_type": "markdown",
   "metadata": {
    "id": "eE0raob58DC0"
   },
   "source": [
    "## Menentukan Pertanyaan Bisnis"
   ]
  },
  {
   "cell_type": "markdown",
   "metadata": {},
   "source": [
    "#### Analisis Penjualan dan Pendapatan\n",
    "\n",
    "1. Produk apa yang memiliki total penjualan tertinggi dalam periode tertentu?\n",
    "- Tujuan: Menentukan produk yang memberikan kontribusi terbesar terhadap total pendapatan dalam periode tertentu (misalnya bulanan atau tahunan).\n",
    "- Metode: Menganalisis data berdasarkan total harga produk yang terjual.\n",
    "- Variabel yang Terlibat: product_id, price, order_purchase_timestamp, dan order_id dari dataset orders dan order_items.\n",
    "- Wawasan: Ini akan memberikan gambaran mengenai produk-produk unggulan yang memiliki kinerja penjualan yang tinggi, yang bisa digunakan untuk -perencanaan inventaris dan strategi pemasaran.\n",
    "\n",
    "2. Bagaimana pola penjualan berdasarkan waktu (mingguan, bulanan, atau musiman)?\n",
    "\n",
    "- Tujuan: Memahami tren penjualan dan pendapatan dalam periode waktu tertentu. Misalnya, apakah ada peningkatan penjualan pada akhir pekan, bulan - - --- tertentu, atau selama musim tertentu (musim liburan atau promosi).\n",
    "- Metode: Menggunakan visualisasi waktu seperti garis waktu untuk melihat fluktuasi penjualan berdasarkan bulan atau minggu.\n",
    "- Variabel yang Terlibat: order_purchase_timestamp, price, order_id dari dataset orders dan order_items.\n",
    "- Wawasan: Ini akan membantu untuk menentukan kapan periode penjualan puncak terjadi dan menyesuaikan stok atau strategi promosi.\n",
    "  \n",
    "3. Bagaimana Pengaruh Diskon atau Promosi terhadap Penjualan Produk?\n",
    "\n",
    "- Tujuan: Menganalisis apakah diskon atau promosi tertentu mempengaruhi volume penjualan dan pendapatan produk.\n",
    "- Metode: Menganalisis produk yang diberi diskon, mengukur perubahan dalam jumlah unit terjual atau total pendapatan sebelum dan sesudah promosi.\n",
    "- Variabel yang Terlibat: order_id, price, freight_value, dan informasi diskon atau promosi (jika tersedia) dari dataset orders dan order_items.\n",
    "- Wawasan: Menilai apakah strategi diskon dan promosi efektif dalam meningkatkan penjualan dan pendapatan.\n",
    "\n",
    "4. Bagaimana Korelasi antara Harga Produk dan Jumlah Penjualan?\n",
    "\n",
    "- Tujuan: Mengukur apakah harga produk memiliki pengaruh signifikan terhadap jumlah unit yang terjual.\n",
    "- Metode: Menggunakan visualisasi atau analisis korelasi untuk melihat hubungan antara harga dan jumlah penjualan (jumlah order).\n",
    "- Variabel yang Terlibat: price, order_id, quantity dari dataset order_items.\n",
    "- Wawasan: Menganalisis apakah produk dengan harga lebih tinggi cenderung memiliki lebih sedikit penjualan, atau sebaliknya, untuk memahami strategi harga yang optimal."
   ]
  },
  {
   "cell_type": "markdown",
   "metadata": {
    "id": "H-z4QGlO8DC1"
   },
   "source": [
    "## Import Semua Packages/Library yang Digunakan"
   ]
  },
  {
   "cell_type": "code",
   "execution_count": 76,
   "metadata": {
    "id": "FVYwaObI8DC1"
   },
   "outputs": [],
   "source": [
    "import numpy as np\n",
    "import pandas as pd\n",
    "import matplotlib.pyplot as plt\n",
    "import seaborn as sns"
   ]
  },
  {
   "cell_type": "markdown",
   "metadata": {
    "id": "h_Sh51Xy8DC1"
   },
   "source": [
    "# Data Wrangling"
   ]
  },
  {
   "cell_type": "markdown",
   "metadata": {
    "id": "sXU2GBYu8DC1"
   },
   "source": [
    "## 1. Gathering Data\n",
    "Tujuan: Memastikan data terkait penjualan dan pendapatan tersedia."
   ]
  },
  {
   "cell_type": "markdown",
   "metadata": {},
   "source": [
    "#### Dataset yang Dibutuhkan:\n",
    "1. orders_dataset: Data utama transaksi/pesanan.\n",
    "2. order_items_dataset: Detail barang dalam pesanan.\n",
    "3. products_dataset: Informasi produk.\n",
    "4. product_category_name_translation: Terjemahan kategori produk.\n",
    "5. order_payments_dataset: Detail pembayaran."
   ]
  },
  {
   "cell_type": "markdown",
   "metadata": {},
   "source": [
    "### Langkah-Langkah"
   ]
  },
  {
   "cell_type": "markdown",
   "metadata": {},
   "source": [
    "#### 1. Mengimpor Dataset"
   ]
  },
  {
   "cell_type": "code",
   "execution_count": 10,
   "metadata": {
    "id": "zjCBk1BI8DC1",
    "scrolled": true
   },
   "outputs": [],
   "source": [
    "orders = pd.read_csv('data/orders_dataset.csv')\n",
    "order_items = pd.read_csv('data/order_items_dataset.csv')\n",
    "products = pd.read_csv('data/products_dataset.csv')\n",
    "product_translation = pd.read_csv('data/product_category_name_translation.csv')\n",
    "order_payments = pd.read_csv('data/order_payments_dataset.csv')\n"
   ]
  },
  {
   "cell_type": "markdown",
   "metadata": {},
   "source": [
    "#### 2. Memeriksa Struktur Data\n",
    "##### Periksa informasi dan sampel dari setiap dataset"
   ]
  },
  {
   "cell_type": "code",
   "execution_count": 16,
   "metadata": {
    "scrolled": true
   },
   "outputs": [
    {
     "name": "stdout",
     "output_type": "stream",
     "text": [
      "<class 'pandas.core.frame.DataFrame'>\n",
      "RangeIndex: 99441 entries, 0 to 99440\n",
      "Data columns (total 8 columns):\n",
      " #   Column                         Non-Null Count  Dtype \n",
      "---  ------                         --------------  ----- \n",
      " 0   order_id                       99441 non-null  object\n",
      " 1   customer_id                    99441 non-null  object\n",
      " 2   order_status                   99441 non-null  object\n",
      " 3   order_purchase_timestamp       99441 non-null  object\n",
      " 4   order_approved_at              99281 non-null  object\n",
      " 5   order_delivered_carrier_date   97658 non-null  object\n",
      " 6   order_delivered_customer_date  96476 non-null  object\n",
      " 7   order_estimated_delivery_date  99441 non-null  object\n",
      "dtypes: object(8)\n",
      "memory usage: 6.1+ MB\n",
      "None\n",
      "<class 'pandas.core.frame.DataFrame'>\n",
      "RangeIndex: 112650 entries, 0 to 112649\n",
      "Data columns (total 7 columns):\n",
      " #   Column               Non-Null Count   Dtype  \n",
      "---  ------               --------------   -----  \n",
      " 0   order_id             112650 non-null  object \n",
      " 1   order_item_id        112650 non-null  int64  \n",
      " 2   product_id           112650 non-null  object \n",
      " 3   seller_id            112650 non-null  object \n",
      " 4   shipping_limit_date  112650 non-null  object \n",
      " 5   price                112650 non-null  float64\n",
      " 6   freight_value        112650 non-null  float64\n",
      "dtypes: float64(2), int64(1), object(4)\n",
      "memory usage: 6.0+ MB\n",
      "None\n",
      "<class 'pandas.core.frame.DataFrame'>\n",
      "RangeIndex: 32951 entries, 0 to 32950\n",
      "Data columns (total 9 columns):\n",
      " #   Column                      Non-Null Count  Dtype  \n",
      "---  ------                      --------------  -----  \n",
      " 0   product_id                  32951 non-null  object \n",
      " 1   product_category_name       32341 non-null  object \n",
      " 2   product_name_lenght         32341 non-null  float64\n",
      " 3   product_description_lenght  32341 non-null  float64\n",
      " 4   product_photos_qty          32341 non-null  float64\n",
      " 5   product_weight_g            32949 non-null  float64\n",
      " 6   product_length_cm           32949 non-null  float64\n",
      " 7   product_height_cm           32949 non-null  float64\n",
      " 8   product_width_cm            32949 non-null  float64\n",
      "dtypes: float64(7), object(2)\n",
      "memory usage: 2.3+ MB\n",
      "None\n",
      "<class 'pandas.core.frame.DataFrame'>\n",
      "RangeIndex: 71 entries, 0 to 70\n",
      "Data columns (total 2 columns):\n",
      " #   Column                         Non-Null Count  Dtype \n",
      "---  ------                         --------------  ----- \n",
      " 0   product_category_name          71 non-null     object\n",
      " 1   product_category_name_english  71 non-null     object\n",
      "dtypes: object(2)\n",
      "memory usage: 1.2+ KB\n",
      "None\n",
      "<class 'pandas.core.frame.DataFrame'>\n",
      "RangeIndex: 103886 entries, 0 to 103885\n",
      "Data columns (total 5 columns):\n",
      " #   Column                Non-Null Count   Dtype  \n",
      "---  ------                --------------   -----  \n",
      " 0   order_id              103886 non-null  object \n",
      " 1   payment_sequential    103886 non-null  int64  \n",
      " 2   payment_type          103886 non-null  object \n",
      " 3   payment_installments  103886 non-null  int64  \n",
      " 4   payment_value         103886 non-null  float64\n",
      "dtypes: float64(1), int64(2), object(2)\n",
      "memory usage: 4.0+ MB\n",
      "None\n"
     ]
    }
   ],
   "source": [
    "#Periksa informasi dataset\n",
    "print(orders.info())\n",
    "print(order_items.info())\n",
    "print(products.info())\n",
    "print(product_translation.info())\n",
    "print(order_payments.info())\n"
   ]
  },
  {
   "cell_type": "markdown",
   "metadata": {},
   "source": [
    "##### Tampikan Sample dataset"
   ]
  },
  {
   "cell_type": "code",
   "execution_count": 22,
   "metadata": {},
   "outputs": [
    {
     "data": {
      "text/html": [
       "<div>\n",
       "<style scoped>\n",
       "    .dataframe tbody tr th:only-of-type {\n",
       "        vertical-align: middle;\n",
       "    }\n",
       "\n",
       "    .dataframe tbody tr th {\n",
       "        vertical-align: top;\n",
       "    }\n",
       "\n",
       "    .dataframe thead th {\n",
       "        text-align: right;\n",
       "    }\n",
       "</style>\n",
       "<table border=\"1\" class=\"dataframe\">\n",
       "  <thead>\n",
       "    <tr style=\"text-align: right;\">\n",
       "      <th></th>\n",
       "      <th>order_id</th>\n",
       "      <th>customer_id</th>\n",
       "      <th>order_status</th>\n",
       "      <th>order_purchase_timestamp</th>\n",
       "      <th>order_approved_at</th>\n",
       "      <th>order_delivered_carrier_date</th>\n",
       "      <th>order_delivered_customer_date</th>\n",
       "      <th>order_estimated_delivery_date</th>\n",
       "    </tr>\n",
       "  </thead>\n",
       "  <tbody>\n",
       "    <tr>\n",
       "      <th>0</th>\n",
       "      <td>e481f51cbdc54678b7cc49136f2d6af7</td>\n",
       "      <td>9ef432eb6251297304e76186b10a928d</td>\n",
       "      <td>delivered</td>\n",
       "      <td>2017-10-02 10:56:33</td>\n",
       "      <td>2017-10-02 11:07:15</td>\n",
       "      <td>2017-10-04 19:55:00</td>\n",
       "      <td>2017-10-10 21:25:13</td>\n",
       "      <td>2017-10-18 00:00:00</td>\n",
       "    </tr>\n",
       "    <tr>\n",
       "      <th>1</th>\n",
       "      <td>53cdb2fc8bc7dce0b6741e2150273451</td>\n",
       "      <td>b0830fb4747a6c6d20dea0b8c802d7ef</td>\n",
       "      <td>delivered</td>\n",
       "      <td>2018-07-24 20:41:37</td>\n",
       "      <td>2018-07-26 03:24:27</td>\n",
       "      <td>2018-07-26 14:31:00</td>\n",
       "      <td>2018-08-07 15:27:45</td>\n",
       "      <td>2018-08-13 00:00:00</td>\n",
       "    </tr>\n",
       "    <tr>\n",
       "      <th>2</th>\n",
       "      <td>47770eb9100c2d0c44946d9cf07ec65d</td>\n",
       "      <td>41ce2a54c0b03bf3443c3d931a367089</td>\n",
       "      <td>delivered</td>\n",
       "      <td>2018-08-08 08:38:49</td>\n",
       "      <td>2018-08-08 08:55:23</td>\n",
       "      <td>2018-08-08 13:50:00</td>\n",
       "      <td>2018-08-17 18:06:29</td>\n",
       "      <td>2018-09-04 00:00:00</td>\n",
       "    </tr>\n",
       "    <tr>\n",
       "      <th>3</th>\n",
       "      <td>949d5b44dbf5de918fe9c16f97b45f8a</td>\n",
       "      <td>f88197465ea7920adcdbec7375364d82</td>\n",
       "      <td>delivered</td>\n",
       "      <td>2017-11-18 19:28:06</td>\n",
       "      <td>2017-11-18 19:45:59</td>\n",
       "      <td>2017-11-22 13:39:59</td>\n",
       "      <td>2017-12-02 00:28:42</td>\n",
       "      <td>2017-12-15 00:00:00</td>\n",
       "    </tr>\n",
       "    <tr>\n",
       "      <th>4</th>\n",
       "      <td>ad21c59c0840e6cb83a9ceb5573f8159</td>\n",
       "      <td>8ab97904e6daea8866dbdbc4fb7aad2c</td>\n",
       "      <td>delivered</td>\n",
       "      <td>2018-02-13 21:18:39</td>\n",
       "      <td>2018-02-13 22:20:29</td>\n",
       "      <td>2018-02-14 19:46:34</td>\n",
       "      <td>2018-02-16 18:17:02</td>\n",
       "      <td>2018-02-26 00:00:00</td>\n",
       "    </tr>\n",
       "  </tbody>\n",
       "</table>\n",
       "</div>"
      ],
      "text/plain": [
       "                           order_id                       customer_id  \\\n",
       "0  e481f51cbdc54678b7cc49136f2d6af7  9ef432eb6251297304e76186b10a928d   \n",
       "1  53cdb2fc8bc7dce0b6741e2150273451  b0830fb4747a6c6d20dea0b8c802d7ef   \n",
       "2  47770eb9100c2d0c44946d9cf07ec65d  41ce2a54c0b03bf3443c3d931a367089   \n",
       "3  949d5b44dbf5de918fe9c16f97b45f8a  f88197465ea7920adcdbec7375364d82   \n",
       "4  ad21c59c0840e6cb83a9ceb5573f8159  8ab97904e6daea8866dbdbc4fb7aad2c   \n",
       "\n",
       "  order_status order_purchase_timestamp    order_approved_at  \\\n",
       "0    delivered      2017-10-02 10:56:33  2017-10-02 11:07:15   \n",
       "1    delivered      2018-07-24 20:41:37  2018-07-26 03:24:27   \n",
       "2    delivered      2018-08-08 08:38:49  2018-08-08 08:55:23   \n",
       "3    delivered      2017-11-18 19:28:06  2017-11-18 19:45:59   \n",
       "4    delivered      2018-02-13 21:18:39  2018-02-13 22:20:29   \n",
       "\n",
       "  order_delivered_carrier_date order_delivered_customer_date  \\\n",
       "0          2017-10-04 19:55:00           2017-10-10 21:25:13   \n",
       "1          2018-07-26 14:31:00           2018-08-07 15:27:45   \n",
       "2          2018-08-08 13:50:00           2018-08-17 18:06:29   \n",
       "3          2017-11-22 13:39:59           2017-12-02 00:28:42   \n",
       "4          2018-02-14 19:46:34           2018-02-16 18:17:02   \n",
       "\n",
       "  order_estimated_delivery_date  \n",
       "0           2017-10-18 00:00:00  \n",
       "1           2018-08-13 00:00:00  \n",
       "2           2018-09-04 00:00:00  \n",
       "3           2017-12-15 00:00:00  \n",
       "4           2018-02-26 00:00:00  "
      ]
     },
     "execution_count": 22,
     "metadata": {},
     "output_type": "execute_result"
    }
   ],
   "source": [
    "orders.head()"
   ]
  },
  {
   "cell_type": "code",
   "execution_count": 18,
   "metadata": {
    "scrolled": true
   },
   "outputs": [
    {
     "data": {
      "text/html": [
       "<div>\n",
       "<style scoped>\n",
       "    .dataframe tbody tr th:only-of-type {\n",
       "        vertical-align: middle;\n",
       "    }\n",
       "\n",
       "    .dataframe tbody tr th {\n",
       "        vertical-align: top;\n",
       "    }\n",
       "\n",
       "    .dataframe thead th {\n",
       "        text-align: right;\n",
       "    }\n",
       "</style>\n",
       "<table border=\"1\" class=\"dataframe\">\n",
       "  <thead>\n",
       "    <tr style=\"text-align: right;\">\n",
       "      <th></th>\n",
       "      <th>order_id</th>\n",
       "      <th>order_item_id</th>\n",
       "      <th>product_id</th>\n",
       "      <th>seller_id</th>\n",
       "      <th>shipping_limit_date</th>\n",
       "      <th>price</th>\n",
       "      <th>freight_value</th>\n",
       "    </tr>\n",
       "  </thead>\n",
       "  <tbody>\n",
       "    <tr>\n",
       "      <th>0</th>\n",
       "      <td>00010242fe8c5a6d1ba2dd792cb16214</td>\n",
       "      <td>1</td>\n",
       "      <td>4244733e06e7ecb4970a6e2683c13e61</td>\n",
       "      <td>48436dade18ac8b2bce089ec2a041202</td>\n",
       "      <td>2017-09-19 09:45:35</td>\n",
       "      <td>58.90</td>\n",
       "      <td>13.29</td>\n",
       "    </tr>\n",
       "    <tr>\n",
       "      <th>1</th>\n",
       "      <td>00018f77f2f0320c557190d7a144bdd3</td>\n",
       "      <td>1</td>\n",
       "      <td>e5f2d52b802189ee658865ca93d83a8f</td>\n",
       "      <td>dd7ddc04e1b6c2c614352b383efe2d36</td>\n",
       "      <td>2017-05-03 11:05:13</td>\n",
       "      <td>239.90</td>\n",
       "      <td>19.93</td>\n",
       "    </tr>\n",
       "    <tr>\n",
       "      <th>2</th>\n",
       "      <td>000229ec398224ef6ca0657da4fc703e</td>\n",
       "      <td>1</td>\n",
       "      <td>c777355d18b72b67abbeef9df44fd0fd</td>\n",
       "      <td>5b51032eddd242adc84c38acab88f23d</td>\n",
       "      <td>2018-01-18 14:48:30</td>\n",
       "      <td>199.00</td>\n",
       "      <td>17.87</td>\n",
       "    </tr>\n",
       "    <tr>\n",
       "      <th>3</th>\n",
       "      <td>00024acbcdf0a6daa1e931b038114c75</td>\n",
       "      <td>1</td>\n",
       "      <td>7634da152a4610f1595efa32f14722fc</td>\n",
       "      <td>9d7a1d34a5052409006425275ba1c2b4</td>\n",
       "      <td>2018-08-15 10:10:18</td>\n",
       "      <td>12.99</td>\n",
       "      <td>12.79</td>\n",
       "    </tr>\n",
       "    <tr>\n",
       "      <th>4</th>\n",
       "      <td>00042b26cf59d7ce69dfabb4e55b4fd9</td>\n",
       "      <td>1</td>\n",
       "      <td>ac6c3623068f30de03045865e4e10089</td>\n",
       "      <td>df560393f3a51e74553ab94004ba5c87</td>\n",
       "      <td>2017-02-13 13:57:51</td>\n",
       "      <td>199.90</td>\n",
       "      <td>18.14</td>\n",
       "    </tr>\n",
       "  </tbody>\n",
       "</table>\n",
       "</div>"
      ],
      "text/plain": [
       "                           order_id  order_item_id  \\\n",
       "0  00010242fe8c5a6d1ba2dd792cb16214              1   \n",
       "1  00018f77f2f0320c557190d7a144bdd3              1   \n",
       "2  000229ec398224ef6ca0657da4fc703e              1   \n",
       "3  00024acbcdf0a6daa1e931b038114c75              1   \n",
       "4  00042b26cf59d7ce69dfabb4e55b4fd9              1   \n",
       "\n",
       "                         product_id                         seller_id  \\\n",
       "0  4244733e06e7ecb4970a6e2683c13e61  48436dade18ac8b2bce089ec2a041202   \n",
       "1  e5f2d52b802189ee658865ca93d83a8f  dd7ddc04e1b6c2c614352b383efe2d36   \n",
       "2  c777355d18b72b67abbeef9df44fd0fd  5b51032eddd242adc84c38acab88f23d   \n",
       "3  7634da152a4610f1595efa32f14722fc  9d7a1d34a5052409006425275ba1c2b4   \n",
       "4  ac6c3623068f30de03045865e4e10089  df560393f3a51e74553ab94004ba5c87   \n",
       "\n",
       "   shipping_limit_date   price  freight_value  \n",
       "0  2017-09-19 09:45:35   58.90          13.29  \n",
       "1  2017-05-03 11:05:13  239.90          19.93  \n",
       "2  2018-01-18 14:48:30  199.00          17.87  \n",
       "3  2018-08-15 10:10:18   12.99          12.79  \n",
       "4  2017-02-13 13:57:51  199.90          18.14  "
      ]
     },
     "execution_count": 18,
     "metadata": {},
     "output_type": "execute_result"
    }
   ],
   "source": [
    "order_items.head()"
   ]
  },
  {
   "cell_type": "code",
   "execution_count": 20,
   "metadata": {},
   "outputs": [
    {
     "data": {
      "text/html": [
       "<div>\n",
       "<style scoped>\n",
       "    .dataframe tbody tr th:only-of-type {\n",
       "        vertical-align: middle;\n",
       "    }\n",
       "\n",
       "    .dataframe tbody tr th {\n",
       "        vertical-align: top;\n",
       "    }\n",
       "\n",
       "    .dataframe thead th {\n",
       "        text-align: right;\n",
       "    }\n",
       "</style>\n",
       "<table border=\"1\" class=\"dataframe\">\n",
       "  <thead>\n",
       "    <tr style=\"text-align: right;\">\n",
       "      <th></th>\n",
       "      <th>product_id</th>\n",
       "      <th>product_category_name</th>\n",
       "      <th>product_name_lenght</th>\n",
       "      <th>product_description_lenght</th>\n",
       "      <th>product_photos_qty</th>\n",
       "      <th>product_weight_g</th>\n",
       "      <th>product_length_cm</th>\n",
       "      <th>product_height_cm</th>\n",
       "      <th>product_width_cm</th>\n",
       "    </tr>\n",
       "  </thead>\n",
       "  <tbody>\n",
       "    <tr>\n",
       "      <th>0</th>\n",
       "      <td>1e9e8ef04dbcff4541ed26657ea517e5</td>\n",
       "      <td>perfumaria</td>\n",
       "      <td>40.0</td>\n",
       "      <td>287.0</td>\n",
       "      <td>1.0</td>\n",
       "      <td>225.0</td>\n",
       "      <td>16.0</td>\n",
       "      <td>10.0</td>\n",
       "      <td>14.0</td>\n",
       "    </tr>\n",
       "    <tr>\n",
       "      <th>1</th>\n",
       "      <td>3aa071139cb16b67ca9e5dea641aaa2f</td>\n",
       "      <td>artes</td>\n",
       "      <td>44.0</td>\n",
       "      <td>276.0</td>\n",
       "      <td>1.0</td>\n",
       "      <td>1000.0</td>\n",
       "      <td>30.0</td>\n",
       "      <td>18.0</td>\n",
       "      <td>20.0</td>\n",
       "    </tr>\n",
       "    <tr>\n",
       "      <th>2</th>\n",
       "      <td>96bd76ec8810374ed1b65e291975717f</td>\n",
       "      <td>esporte_lazer</td>\n",
       "      <td>46.0</td>\n",
       "      <td>250.0</td>\n",
       "      <td>1.0</td>\n",
       "      <td>154.0</td>\n",
       "      <td>18.0</td>\n",
       "      <td>9.0</td>\n",
       "      <td>15.0</td>\n",
       "    </tr>\n",
       "    <tr>\n",
       "      <th>3</th>\n",
       "      <td>cef67bcfe19066a932b7673e239eb23d</td>\n",
       "      <td>bebes</td>\n",
       "      <td>27.0</td>\n",
       "      <td>261.0</td>\n",
       "      <td>1.0</td>\n",
       "      <td>371.0</td>\n",
       "      <td>26.0</td>\n",
       "      <td>4.0</td>\n",
       "      <td>26.0</td>\n",
       "    </tr>\n",
       "    <tr>\n",
       "      <th>4</th>\n",
       "      <td>9dc1a7de274444849c219cff195d0b71</td>\n",
       "      <td>utilidades_domesticas</td>\n",
       "      <td>37.0</td>\n",
       "      <td>402.0</td>\n",
       "      <td>4.0</td>\n",
       "      <td>625.0</td>\n",
       "      <td>20.0</td>\n",
       "      <td>17.0</td>\n",
       "      <td>13.0</td>\n",
       "    </tr>\n",
       "  </tbody>\n",
       "</table>\n",
       "</div>"
      ],
      "text/plain": [
       "                         product_id  product_category_name  \\\n",
       "0  1e9e8ef04dbcff4541ed26657ea517e5             perfumaria   \n",
       "1  3aa071139cb16b67ca9e5dea641aaa2f                  artes   \n",
       "2  96bd76ec8810374ed1b65e291975717f          esporte_lazer   \n",
       "3  cef67bcfe19066a932b7673e239eb23d                  bebes   \n",
       "4  9dc1a7de274444849c219cff195d0b71  utilidades_domesticas   \n",
       "\n",
       "   product_name_lenght  product_description_lenght  product_photos_qty  \\\n",
       "0                 40.0                       287.0                 1.0   \n",
       "1                 44.0                       276.0                 1.0   \n",
       "2                 46.0                       250.0                 1.0   \n",
       "3                 27.0                       261.0                 1.0   \n",
       "4                 37.0                       402.0                 4.0   \n",
       "\n",
       "   product_weight_g  product_length_cm  product_height_cm  product_width_cm  \n",
       "0             225.0               16.0               10.0              14.0  \n",
       "1            1000.0               30.0               18.0              20.0  \n",
       "2             154.0               18.0                9.0              15.0  \n",
       "3             371.0               26.0                4.0              26.0  \n",
       "4             625.0               20.0               17.0              13.0  "
      ]
     },
     "execution_count": 20,
     "metadata": {},
     "output_type": "execute_result"
    }
   ],
   "source": [
    "products.head()"
   ]
  },
  {
   "cell_type": "code",
   "execution_count": 23,
   "metadata": {
    "scrolled": true
   },
   "outputs": [
    {
     "data": {
      "text/html": [
       "<div>\n",
       "<style scoped>\n",
       "    .dataframe tbody tr th:only-of-type {\n",
       "        vertical-align: middle;\n",
       "    }\n",
       "\n",
       "    .dataframe tbody tr th {\n",
       "        vertical-align: top;\n",
       "    }\n",
       "\n",
       "    .dataframe thead th {\n",
       "        text-align: right;\n",
       "    }\n",
       "</style>\n",
       "<table border=\"1\" class=\"dataframe\">\n",
       "  <thead>\n",
       "    <tr style=\"text-align: right;\">\n",
       "      <th></th>\n",
       "      <th>product_category_name</th>\n",
       "      <th>product_category_name_english</th>\n",
       "    </tr>\n",
       "  </thead>\n",
       "  <tbody>\n",
       "    <tr>\n",
       "      <th>0</th>\n",
       "      <td>beleza_saude</td>\n",
       "      <td>health_beauty</td>\n",
       "    </tr>\n",
       "    <tr>\n",
       "      <th>1</th>\n",
       "      <td>informatica_acessorios</td>\n",
       "      <td>computers_accessories</td>\n",
       "    </tr>\n",
       "    <tr>\n",
       "      <th>2</th>\n",
       "      <td>automotivo</td>\n",
       "      <td>auto</td>\n",
       "    </tr>\n",
       "    <tr>\n",
       "      <th>3</th>\n",
       "      <td>cama_mesa_banho</td>\n",
       "      <td>bed_bath_table</td>\n",
       "    </tr>\n",
       "    <tr>\n",
       "      <th>4</th>\n",
       "      <td>moveis_decoracao</td>\n",
       "      <td>furniture_decor</td>\n",
       "    </tr>\n",
       "  </tbody>\n",
       "</table>\n",
       "</div>"
      ],
      "text/plain": [
       "    product_category_name product_category_name_english\n",
       "0            beleza_saude                 health_beauty\n",
       "1  informatica_acessorios         computers_accessories\n",
       "2              automotivo                          auto\n",
       "3         cama_mesa_banho                bed_bath_table\n",
       "4        moveis_decoracao               furniture_decor"
      ]
     },
     "execution_count": 23,
     "metadata": {},
     "output_type": "execute_result"
    }
   ],
   "source": [
    "product_translation.head()"
   ]
  },
  {
   "cell_type": "code",
   "execution_count": 24,
   "metadata": {},
   "outputs": [
    {
     "data": {
      "text/html": [
       "<div>\n",
       "<style scoped>\n",
       "    .dataframe tbody tr th:only-of-type {\n",
       "        vertical-align: middle;\n",
       "    }\n",
       "\n",
       "    .dataframe tbody tr th {\n",
       "        vertical-align: top;\n",
       "    }\n",
       "\n",
       "    .dataframe thead th {\n",
       "        text-align: right;\n",
       "    }\n",
       "</style>\n",
       "<table border=\"1\" class=\"dataframe\">\n",
       "  <thead>\n",
       "    <tr style=\"text-align: right;\">\n",
       "      <th></th>\n",
       "      <th>order_id</th>\n",
       "      <th>payment_sequential</th>\n",
       "      <th>payment_type</th>\n",
       "      <th>payment_installments</th>\n",
       "      <th>payment_value</th>\n",
       "    </tr>\n",
       "  </thead>\n",
       "  <tbody>\n",
       "    <tr>\n",
       "      <th>0</th>\n",
       "      <td>b81ef226f3fe1789b1e8b2acac839d17</td>\n",
       "      <td>1</td>\n",
       "      <td>credit_card</td>\n",
       "      <td>8</td>\n",
       "      <td>99.33</td>\n",
       "    </tr>\n",
       "    <tr>\n",
       "      <th>1</th>\n",
       "      <td>a9810da82917af2d9aefd1278f1dcfa0</td>\n",
       "      <td>1</td>\n",
       "      <td>credit_card</td>\n",
       "      <td>1</td>\n",
       "      <td>24.39</td>\n",
       "    </tr>\n",
       "    <tr>\n",
       "      <th>2</th>\n",
       "      <td>25e8ea4e93396b6fa0d3dd708e76c1bd</td>\n",
       "      <td>1</td>\n",
       "      <td>credit_card</td>\n",
       "      <td>1</td>\n",
       "      <td>65.71</td>\n",
       "    </tr>\n",
       "    <tr>\n",
       "      <th>3</th>\n",
       "      <td>ba78997921bbcdc1373bb41e913ab953</td>\n",
       "      <td>1</td>\n",
       "      <td>credit_card</td>\n",
       "      <td>8</td>\n",
       "      <td>107.78</td>\n",
       "    </tr>\n",
       "    <tr>\n",
       "      <th>4</th>\n",
       "      <td>42fdf880ba16b47b59251dd489d4441a</td>\n",
       "      <td>1</td>\n",
       "      <td>credit_card</td>\n",
       "      <td>2</td>\n",
       "      <td>128.45</td>\n",
       "    </tr>\n",
       "  </tbody>\n",
       "</table>\n",
       "</div>"
      ],
      "text/plain": [
       "                           order_id  payment_sequential payment_type  \\\n",
       "0  b81ef226f3fe1789b1e8b2acac839d17                   1  credit_card   \n",
       "1  a9810da82917af2d9aefd1278f1dcfa0                   1  credit_card   \n",
       "2  25e8ea4e93396b6fa0d3dd708e76c1bd                   1  credit_card   \n",
       "3  ba78997921bbcdc1373bb41e913ab953                   1  credit_card   \n",
       "4  42fdf880ba16b47b59251dd489d4441a                   1  credit_card   \n",
       "\n",
       "   payment_installments  payment_value  \n",
       "0                     8          99.33  \n",
       "1                     1          24.39  \n",
       "2                     1          65.71  \n",
       "3                     8         107.78  \n",
       "4                     2         128.45  "
      ]
     },
     "execution_count": 24,
     "metadata": {},
     "output_type": "execute_result"
    }
   ],
   "source": [
    "order_payments.head()"
   ]
  },
  {
   "cell_type": "markdown",
   "metadata": {
    "id": "MMi6xGaDkbCi"
   },
   "source": [
    "**Insight:**\n",
    "1. Dataset yang Relevan:\n",
    "  \n",
    "  Dataset yang relevan untuk Analisis Penjualan dan Pendapatan adalah orders_dataset, order_items_dataset, products_dataset, order_payments_dataset, dan product_category_name_translation. Dataset ini menyediakan informasi utama tentang transaksi, produk, pembayaran, dan kategori produk yang diperlukan untuk analisis.\n",
    "  \n",
    "2. Validasi Data:\n",
    "\n",
    "Pastikan setiap dataset terhubung dengan relasi kunci yang tepat. Misalnya, order_id pada orders_dataset harus terkait dengan order_id di order_items_dataset dan order_payments_dataset. Hubungan ini penting untuk menggabungkan data secara tepat.\n",
    "\n",
    "3. Pahami Struktur: \n",
    "\n",
    "Identifikasi kolom-kolom kunci yang relevan seperti order_id, price, product_id, order_status, dan payment_value. Kolom ini digunakan untuk analisis penjualan, pendapatan, dan produk terlaris.\n",
    "\n",
    "4. Cek Data Awal: \n",
    "\n",
    "Periksa apakah ada masalah seperti missing data atau encoding error pada kolom-kolom penting seperti order_id, price, dan payment_value. Pastikan dataset siap digunakan dengan mengatasi masalah tersebut sejak awal.\n",
    "\n",
    "5. Efisiensi: \n",
    "\n",
    "Setelah data berhasil diimpor, simpan dataset dalam format yang efisien (misalnya, CSV atau Parquet) untuk mempercepat tahap berikutnya, terutama jika dataset besar. Hal ini menghindari proses pengimporan ulang di setiap langkah analisis.\n"
   ]
  },
  {
   "cell_type": "markdown",
   "metadata": {
    "id": "FHSiqaZp8DC1"
   },
   "source": [
    "### Assessing Data"
   ]
  },
  {
   "cell_type": "markdown",
   "metadata": {},
   "source": [
    "#### 1. Cek Missing Values:\n",
    "Identifikasi apakah ada data yang hilang (missing values) pada kolom penting seperti order_id, price, atau payment_value. Data yang hilang dapat mempengaruhi akurasi analisis, jadi penting untuk menangani masalah ini dengan cara mengisi atau menghapus baris yang relevan.\n",
    "\n",
    "Gunakan fungsi .isnull().sum() untuk memeriksa missing values di setiap dataset."
   ]
  },
  {
   "cell_type": "code",
   "execution_count": 36,
   "metadata": {},
   "outputs": [
    {
     "name": "stdout",
     "output_type": "stream",
     "text": [
      "Tabel orders\n",
      "\n",
      "order_id                            0\n",
      "customer_id                         0\n",
      "order_status                        0\n",
      "order_purchase_timestamp            0\n",
      "order_approved_at                 160\n",
      "order_delivered_carrier_date     1783\n",
      "order_delivered_customer_date    2965\n",
      "order_estimated_delivery_date       0\n",
      "dtype: int64\n",
      "\n",
      "Tabel order_items\n",
      "\n",
      "order_id               0\n",
      "order_item_id          0\n",
      "product_id             0\n",
      "seller_id              0\n",
      "shipping_limit_date    0\n",
      "price                  0\n",
      "freight_value          0\n",
      "dtype: int64\n",
      "\n",
      "Tabel products\n",
      "\n",
      "product_id                      0\n",
      "product_category_name         610\n",
      "product_name_lenght           610\n",
      "product_description_lenght    610\n",
      "product_photos_qty            610\n",
      "product_weight_g                2\n",
      "product_length_cm               2\n",
      "product_height_cm               2\n",
      "product_width_cm                2\n",
      "dtype: int64\n",
      "\n",
      "Tabel product_translation\n",
      "\n",
      "product_category_name            0\n",
      "product_category_name_english    0\n",
      "dtype: int64\n",
      "\n",
      "Tabel order_payments\n",
      "\n",
      "order_id                0\n",
      "payment_sequential      0\n",
      "payment_type            0\n",
      "payment_installments    0\n",
      "payment_value           0\n",
      "dtype: int64\n"
     ]
    }
   ],
   "source": [
    "print(\"Tabel orders\\n\")\n",
    "print(orders.isnull().sum())\n",
    "\n",
    "print(\"\\nTabel order_items\\n\")\n",
    "print(order_items.isnull().sum())\n",
    "\n",
    "print(\"\\nTabel products\\n\")\n",
    "print(products.isnull().sum())\n",
    "\n",
    "print(\"\\nTabel product_translation\\n\")\n",
    "print(product_translation.isnull().sum())\n",
    "\n",
    "print(\"\\nTabel order_payments\\n\")\n",
    "print(order_payments.isnull().sum())"
   ]
  },
  {
   "cell_type": "markdown",
   "metadata": {},
   "source": [
    "#### 2. Cek Duplikasi:\n",
    "Periksa apakah ada baris duplikat dalam dataset. Baris duplikat dapat menyebabkan perhitungan yang tidak akurat (misalnya, jumlah barang yang lebih tinggi dari yang seharusnya).\n",
    "\n",
    "Gunakan .duplicated().sum() untuk mengecek jumlah duplikasi di setiap dataset."
   ]
  },
  {
   "cell_type": "code",
   "execution_count": 43,
   "metadata": {},
   "outputs": [
    {
     "name": "stdout",
     "output_type": "stream",
     "text": [
      "Tabel orders\n",
      "\n",
      "0\n",
      "\n",
      "Tabel order_items\n",
      "\n",
      "0\n",
      "\n",
      "Tabel products\n",
      "\n",
      "0\n",
      "\n",
      "Tabel product_translation\n",
      "\n",
      "0\n",
      "\n",
      "Tabel order_payments\n",
      "\n",
      "0\n"
     ]
    }
   ],
   "source": [
    "print(\"Tabel orders\\n\")\n",
    "print(orders.duplicated().sum())\n",
    "\n",
    "print(\"\\nTabel order_items\\n\")\n",
    "print(order_items.duplicated().sum())\n",
    "\n",
    "print(\"\\nTabel products\\n\")\n",
    "print(products.duplicated().sum())\n",
    "\n",
    "print(\"\\nTabel product_translation\\n\")\n",
    "print(product_translation.duplicated().sum())\n",
    "\n",
    "print(\"\\nTabel order_payments\\n\")\n",
    "print(order_payments.duplicated().sum())"
   ]
  },
  {
   "cell_type": "markdown",
   "metadata": {},
   "source": [
    "#### 3. Cek Konsistensi Format:\n",
    "Pastikan data memiliki format yang konsisten, misalnya tanggal dalam format datetime (order_purchase_timestamp), atau kategori produk yang sudah seragam.\n",
    "\n",
    "Periksa apakah ada inkonsistensi pada kolom seperti price atau product_category_name. Pastikan tidak ada whitespace yang tidak perlu dan data sudah dalam format yang tepat (misalnya angka atau teks)."
   ]
  },
  {
   "cell_type": "code",
   "execution_count": 48,
   "metadata": {},
   "outputs": [],
   "source": [
    "orders['order_purchase_timestamp'] = pd.to_datetime(orders['order_purchase_timestamp'])\n",
    "products['product_category_name'] = products['product_category_name'].str.strip().str.lower()"
   ]
  },
  {
   "cell_type": "markdown",
   "metadata": {},
   "source": [
    "#### 4. Identifikasi Outlier:\n",
    "Lakukan pemeriksaan terhadap nilai yang tidak biasa atau outlier, terutama di kolom seperti price atau payment_value. Outlier dapat memberikan informasi yang tidak realistis dan mengganggu analisis.\n",
    "\n",
    "Gunakan visualisasi seperti boxplot untuk melihat distribusi data dan mengidentifikasi potensi outlier."
   ]
  },
  {
   "cell_type": "code",
   "execution_count": 46,
   "metadata": {},
   "outputs": [
    {
     "data": {
      "image/png": "[encoded data removed]",
      "text/plain": [
       "<Figure size 640x480 with 1 Axes>"
      ]
     },
     "metadata": {},
     "output_type": "display_data"
    }
   ],
   "source": [
    "order_items.boxplot(column='price')\n",
    "plt.show()"
   ]
  },
  {
   "cell_type": "markdown",
   "metadata": {},
   "source": [
    "#### 5. Cek Relasi Antar Dataset:\n",
    "Periksa apakah hubungan antar dataset sesuai dengan relasi kunci yang ada. Misalnya, pastikan semua order_id di order_items_dataset ada di orders_dataset, dan begitu pula dengan product_id dan seller_id.\n",
    "\n",
    "Jika ada data yang tidak terhubung, lakukan pengecekan lebih lanjut atau pertimbangkan untuk menghapusnya."
   ]
  },
  {
   "cell_type": "code",
   "execution_count": 47,
   "metadata": {},
   "outputs": [
    {
     "name": "stdout",
     "output_type": "stream",
     "text": [
      "Empty DataFrame\n",
      "Columns: [order_id, order_item_id, product_id, seller_id, shipping_limit_date, price, freight_value]\n",
      "Index: []\n"
     ]
    }
   ],
   "source": [
    "unmatched_orders = order_items[~order_items['order_id'].isin(orders['order_id'])]\n",
    "print(unmatched_orders)\n"
   ]
  },
  {
   "cell_type": "markdown",
   "metadata": {
    "id": "Q_5ejIqckiSP"
   },
   "source": [
    "**Insight:**\n",
    "\n",
    " ##### Tabel orders:\n",
    " \n",
    "Missing Values:\n",
    "Kolom order_approved_at memiliki 160 nilai yang hilang.\n",
    "Kolom order_delivered_carrier_date memiliki 1.783 nilai yang hilang.\n",
    "Kolom order_delivered_customer_date memiliki 2.965 nilai yang hilang.\n",
    "\n",
    " ##### Tabel order_items:\n",
    "\n",
    " Missing Values:\n",
    "Tidak ada nilai yang hilang \n",
    "\n",
    " ##### Tabel products\n",
    "\n",
    "Missing Values:\n",
    "Banyak nilai yang hilang pada beberapa kolom penting seperti product_category_name, product_name_length, product_description_length, dan product_photos_qty dengan masing-masing 610 nilai hilang.\n",
    "\n",
    " ##### Tabel product_translation:\n",
    "\n",
    " Missing Values: Tidak ada nilai yang hilang.\n",
    "\n",
    " ##### Tabel order_payments:\n",
    "\n",
    " Missing Values: Tidak ada nilai yang hilang\n",
    "\n",
    "**Kesimpulan dari Tahap Assessing Data:**\n",
    "\n",
    "Tabel orders memerlukan perhatian khusus pada kolom-kolom dengan nilai hilang, terutama yang berkaitan dengan tanggal pengiriman dan persetujuan, karena ini dapat memengaruhi analisis tren waktu dan kepuasan pelanggan.\n",
    "Tabel order_items tidak menunjukkan masalah besar dengan nilai hilang, sehingga siap digunakan untuk analisis rincian pesanan.\n",
    "Tabel products memiliki masalah missing values yang cukup signifikan, terutama pada kolom-kolom penting seperti product_category_name. Ini perlu ditangani dengan hati-hati agar analisis produk dapat berjalan dengan baik.\n",
    "Tabel product_translation tidak memerlukan perbaikan, karena tidak ada missing values di tabel ini.\n",
    "Tabel order_payments tidak menunjukkan masalah missing values, sehingga siap digunakan untuk analisis terkait metode dan jumlah pembayaran."
   ]
  },
  {
   "cell_type": "markdown",
   "metadata": {
    "id": "EhN5R4hr8DC1"
   },
   "source": [
    "### Cleaning Data"
   ]
  },
  {
   "cell_type": "markdown",
   "metadata": {
    "id": "jVnYpprE9Evz"
   },
   "source": [
    "#### 1. Menangani Missing Values:"
   ]
  },
  {
   "cell_type": "markdown",
   "metadata": {},
   "source": [
    "#####  Tabel orders:\n",
    "Kolom yang memiliki missing values:\n",
    "* order_approved_at (160 missing values)\n",
    "* order_delivered_carrier_date (1.783 missing values)\n",
    "* order_delivered_customer_date (2.965 missing values)\n",
    "\n",
    "Mengisi nilai kosong dengan metode forward fill (menggunakan nilai sebelumnya), atau NaT (Not a Time) untuk kolom waktu yang relevan.\n"
   ]
  },
  {
   "cell_type": "code",
   "execution_count": 59,
   "metadata": {},
   "outputs": [],
   "source": [
    "# Mengisi missing values dengan forward fill\n",
    "orders['order_approved_at'] = orders['order_approved_at'].ffill()\n",
    "orders['order_delivered_carrier_date'] = orders['order_delivered_carrier_date'].ffill()\n",
    "orders['order_delivered_customer_date'] = orders['order_delivered_customer_date'].ffill()"
   ]
  },
  {
   "cell_type": "markdown",
   "metadata": {},
   "source": [
    "#####  Tabel products:\n",
    "Tabel products memiliki missing values pada beberapa kolom:\n",
    "* product_category_name: Kategori produk (610 missing values)\n",
    "* product_name_lenght: Panjang nama produk (610 missing values)\n",
    "* product_description_lenght: Panjang deskripsi produk (610 missing values)\n",
    "* product_photos_qty: Jumlah foto produk (610 missing values)\n",
    "\n",
    "Mengisi dengan Uncategorized untuk kategori yang hilang.\n",
    "Mengisi dengan 0 untuk atribut yang tidak relevan (misalnya panjang nama, deskripsi, jumlah foto)."
   ]
  },
  {
   "cell_type": "code",
   "execution_count": 66,
   "metadata": {},
   "outputs": [],
   "source": [
    "# Mengisi missing values pada produk\n",
    "products['product_category_name'] = products['product_category_name'].fillna('Uncategorized')\n",
    "products['product_name_lenght'] = products['product_name_lenght'].fillna(0)\n",
    "products['product_description_lenght'] = products['product_description_lenght'].fillna(0)\n",
    "products['product_photos_qty'] = products['product_photos_qty'].fillna(0)\n",
    "\n",
    "\n",
    "products['product_weight_g'] = products['product_weight_g'].fillna(products['product_weight_g'].mean())\n",
    "products['product_length_cm'] = products['product_length_cm'].fillna(products['product_length_cm'].mean())\n",
    "products['product_height_cm'] = products['product_height_cm'].fillna(products['product_height_cm'].mean())\n",
    "products['product_width_cm'] = products['product_width_cm'].fillna(products['product_width_cm'].mean())\n",
    "\n"
   ]
  },
  {
   "cell_type": "markdown",
   "metadata": {},
   "source": [
    "#### 2. Menghapus Duplikat (tidak diperlukan)"
   ]
  },
  {
   "cell_type": "code",
   "execution_count": 61,
   "metadata": {},
   "outputs": [
    {
     "name": "stdout",
     "output_type": "stream",
     "text": [
      "Duplikat pada tabel orders: 0\n",
      "Duplikat pada tabel products: 0\n",
      "Duplikat pada tabel order_items: 0\n",
      "Duplikat pada tabel order_payments: 0\n"
     ]
    }
   ],
   "source": [
    "# Mengecek duplikat di setiap tabel\n",
    "orders_duplicates = orders.duplicated().sum()\n",
    "products_duplicates = products.duplicated().sum()\n",
    "order_items_duplicates = order_items.duplicated().sum()\n",
    "order_payments_duplicates = order_payments.duplicated().sum()\n",
    "\n",
    "# Menampilkan hasil duplikat\n",
    "print(\"Duplikat pada tabel orders:\", orders_duplicates)\n",
    "print(\"Duplikat pada tabel products:\", products_duplicates)\n",
    "print(\"Duplikat pada tabel order_items:\", order_items_duplicates)\n",
    "print(\"Duplikat pada tabel order_payments:\", order_payments_duplicates)"
   ]
  },
  {
   "cell_type": "code",
   "execution_count": 62,
   "metadata": {},
   "outputs": [],
   "source": [
    "# Menghapus duplikat pada tabel yang memiliki duplikat\n",
    "orders = orders.drop_duplicates()\n",
    "products = products.drop_duplicates()\n",
    "order_items = order_items.drop_duplicates()\n",
    "order_payments = order_payments.drop_duplicates()"
   ]
  },
  {
   "cell_type": "markdown",
   "metadata": {},
   "source": [
    "#### 3. Verifikasi Hasil Cleaning Data"
   ]
  },
  {
   "cell_type": "markdown",
   "metadata": {},
   "source": [
    "##### Mengecek Missing Values Setelah Cleaning\n",
    "Pastikan tidak ada lagi missing values setelah pengisian dan penghapusan duplikat."
   ]
  },
  {
   "cell_type": "code",
   "execution_count": 67,
   "metadata": {},
   "outputs": [
    {
     "name": "stdout",
     "output_type": "stream",
     "text": [
      "\n",
      "Missing values pada tabel orders setelah cleaning:\n",
      "order_id                         0\n",
      "customer_id                      0\n",
      "order_status                     0\n",
      "order_purchase_timestamp         0\n",
      "order_approved_at                0\n",
      "order_delivered_carrier_date     0\n",
      "order_delivered_customer_date    0\n",
      "order_estimated_delivery_date    0\n",
      "dtype: int64\n",
      "\n",
      "Missing values pada tabel products setelah cleaning:\n",
      "product_id                    0\n",
      "product_category_name         0\n",
      "product_name_lenght           0\n",
      "product_description_lenght    0\n",
      "product_photos_qty            0\n",
      "product_weight_g              0\n",
      "product_length_cm             0\n",
      "product_height_cm             0\n",
      "product_width_cm              0\n",
      "dtype: int64\n",
      "\n",
      "Missing values pada tabel order_items setelah cleaning:\n",
      "order_id               0\n",
      "order_item_id          0\n",
      "product_id             0\n",
      "seller_id              0\n",
      "shipping_limit_date    0\n",
      "price                  0\n",
      "freight_value          0\n",
      "dtype: int64\n",
      "\n",
      "Missing values pada tabel order_payments setelah cleaning:\n",
      "order_id                0\n",
      "payment_sequential      0\n",
      "payment_type            0\n",
      "payment_installments    0\n",
      "payment_value           0\n",
      "dtype: int64\n"
     ]
    }
   ],
   "source": [
    "# Mengecek missing values setelah cleaning\n",
    "orders_missing_after = orders.isnull().sum()\n",
    "products_missing_after = products.isnull().sum()\n",
    "order_items_missing_after = order_items.isnull().sum()\n",
    "order_payments_missing_after = order_payments.isnull().sum()\n",
    "\n",
    "# Menampilkan hasil\n",
    "print(\"\\nMissing values pada tabel orders setelah cleaning:\")\n",
    "print(orders_missing_after)\n",
    "\n",
    "print(\"\\nMissing values pada tabel products setelah cleaning:\")\n",
    "print(products_missing_after)\n",
    "\n",
    "print(\"\\nMissing values pada tabel order_items setelah cleaning:\")\n",
    "print(order_items_missing_after)\n",
    "\n",
    "print(\"\\nMissing values pada tabel order_payments setelah cleaning:\")\n",
    "print(order_payments_missing_after)"
   ]
  },
  {
   "cell_type": "markdown",
   "metadata": {},
   "source": [
    "##### Verifikasi Data Terkait Duplikat\n",
    "Pastikan bahwa tidak ada data duplikat yang tersisa.\n"
   ]
  },
  {
   "cell_type": "code",
   "execution_count": 64,
   "metadata": {},
   "outputs": [
    {
     "name": "stdout",
     "output_type": "stream",
     "text": [
      "\n",
      "Duplikat pada tabel orders setelah cleaning: 0\n",
      "Duplikat pada tabel products setelah cleaning: 0\n",
      "Duplikat pada tabel order_items setelah cleaning: 0\n",
      "Duplikat pada tabel order_payments setelah cleaning: 0\n"
     ]
    }
   ],
   "source": [
    "# Mengecek kembali apakah ada duplikat\n",
    "orders_duplicates_after = orders.duplicated().sum()\n",
    "products_duplicates_after = products.duplicated().sum()\n",
    "order_items_duplicates_after = order_items.duplicated().sum()\n",
    "order_payments_duplicates_after = order_payments.duplicated().sum()\n",
    "\n",
    "# Menampilkan hasil duplikat setelah cleaning\n",
    "print(\"\\nDuplikat pada tabel orders setelah cleaning:\", orders_duplicates_after)\n",
    "print(\"Duplikat pada tabel products setelah cleaning:\", products_duplicates_after)\n",
    "print(\"Duplikat pada tabel order_items setelah cleaning:\", order_items_duplicates_after)\n",
    "print(\"Duplikat pada tabel order_payments setelah cleaning:\", order_payments_duplicates_after)"
   ]
  },
  {
   "cell_type": "code",
   "execution_count": null,
   "metadata": {},
   "outputs": [],
   "source": []
  },
  {
   "cell_type": "markdown",
   "metadata": {
    "id": "7dtxhAPrkhPL"
   },
   "source": [
    "**Insight:**\n",
    "Berdasarkan tahapan cleaning data yang telah dilakukan, berikut adalah beberapa insight yang dapat diperoleh:\n",
    "1. Penanganan Missing Values:\n",
    "\n",
    "Tabel orders: Missing values di kolom waktu seperti order_approved_at, order_delivered_carrier_date, dan order_delivered_customer_date telah berhasil diatasi dengan metode forward fill (menggunakan nilai sebelumnya). Hal ini memastikan bahwa data yang hilang dapat diisi dengan informasi yang relevan tanpa kehilangan konteks.\n",
    "Tabel products: Missing values pada kolom seperti product_category_name, product_name_lenght, product_description_lenght, dan product_photos_qty telah diatasi dengan pengisian nilai default seperti 'Uncategorized' dan 0. Meskipun kolom ini mengandung nilai kosong, pengisian dengan nilai standar memungkinkan analisis tetap berjalan dengan baik.\n",
    "Kolom numerik di products seperti product_weight_g, product_length_cm, product_height_cm, dan product_width_cm yang memiliki missing values, telah diisi dengan nilai rata-rata (mean) atau nilai 0. Ini memastikan bahwa tidak ada missing values yang mengganggu proses analisis lebih lanjut.\n",
    "\n",
    "2. Penghapusan Duplikat:\n",
    "\n",
    "Setelah penghapusan duplikat, kita memastikan bahwa setiap baris data di setiap tabel adalah unik. Ini penting untuk mencegah analisis yang tidak akurat atau bias yang disebabkan oleh data yang terduplikasi.\n",
    "\n",
    "3. Verifikasi Data:\n",
    "\n",
    "Setelah proses cleaning, tidak ada lagi missing values atau duplikat di dataset, yang menunjukkan bahwa data sudah bersih dan siap untuk digunakan dalam analisis lebih lanjut.\n",
    "Pemeriksaan data setelah cleaning menunjukkan bahwa dataset telah diperbarui dengan benar tanpa kehilangan data penting, dan kolom-kolom numerik memiliki nilai yang valid untuk digunakan dalam analisis statistik.\n",
    "\n",
    "4. Kesiapan Data untuk Analisis:\n",
    "\n",
    "Dataset sekarang dalam kondisi yang lebih baik, siap untuk digunakan dalam analisis bisnis. Kolom-kolom penting seperti order_id, product_id, dan customer_id sudah bebas dari missing values, memungkinkan analisis yang lebih akurat tentang penjualan, pendapatan, dan perilaku pelanggan.\n",
    "Dengan nilai yang telah diisi, data akan memberikan wawasan yang lebih tepat tentang produk, pelanggan, dan performa penjualan, yang penting untuk menjawab pertanyaan analisis bisnis seperti analisis penjualan dan pendapatan, perilaku pelanggan, dan ulasan produk."
   ]
  },
  {
   "cell_type": "markdown",
   "metadata": {
    "id": "gp-Y6wU38DC1"
   },
   "source": [
    "## Exploratory Data Analysis (EDA)"
   ]
  },
  {
   "cell_type": "markdown",
   "metadata": {},
   "source": [
    "Pada tahap Exploratory Data Analysis (EDA), kita akan menggali dataset lebih dalam untuk menemukan pola, hubungan antar variabel, dan mendapatkan wawasan awal yang dapat membantu dalam menjawab pertanyaan bisnis. EDA melibatkan berbagai teknik statistik dan visualisasi untuk memahami karakteristik data secara keseluruhan. Berikut adalah tahapan yang umumnya dilakukan pada EDA dan cara-cara untuk menerapkannya pada dataset E-Commerce Anda."
   ]
  },
  {
   "cell_type": "markdown",
   "metadata": {
    "id": "MW7WF2kr8DC1"
   },
   "source": [
    "### Tahapan EDA: Analisis Penjualan dan Pendapatan (Dataset E-Commerce)\n",
    "\n",
    "Pada tahap ini, akan melihat gambaran umum dari dataset yang relevan dengan penjualan dan pendapatan. Ini mencakup pengukuran distribusi harga, jumlah transaksi, dan total penjualan. Menggunakan metode statistik deskriptif untuk menggali informasi dasar dari dataset seperti rata-rata, median, nilai maksimum, dan standar deviasi."
   ]
  },
  {
   "cell_type": "markdown",
   "metadata": {},
   "source": [
    "#### 1.  Statistik Deskriptif"
   ]
  },
  {
   "cell_type": "code",
   "execution_count": 70,
   "metadata": {
    "id": "e9CQCZjk8DC2"
   },
   "outputs": [
    {
     "data": {
      "text/plain": [
       "(       order_item_id          price  freight_value\n",
       " count  112650.000000  112650.000000  112650.000000\n",
       " mean        1.197834     120.653739      19.990320\n",
       " std         0.705124     183.633928      15.806405\n",
       " min         1.000000       0.850000       0.000000\n",
       " 25%         1.000000      39.900000      13.080000\n",
       " 50%         1.000000      74.990000      16.260000\n",
       " 75%         1.000000     134.900000      21.150000\n",
       " max        21.000000    6735.000000     409.680000,\n",
       "        payment_sequential  payment_installments  payment_value\n",
       " count       103886.000000         103886.000000  103886.000000\n",
       " mean             1.092679              2.853349     154.100380\n",
       " std              0.706584              2.687051     217.494064\n",
       " min              1.000000              0.000000       0.000000\n",
       " 25%              1.000000              1.000000      56.790000\n",
       " 50%              1.000000              1.000000     100.000000\n",
       " 75%              1.000000              4.000000     171.837500\n",
       " max             29.000000             24.000000   13664.080000)"
      ]
     },
     "execution_count": 70,
     "metadata": {},
     "output_type": "execute_result"
    }
   ],
   "source": [
    "# Statistik deskriptif untuk dataset 'order_items' dan 'order_payments'\n",
    "order_items.describe(), order_payments.describe()\n"
   ]
  },
  {
   "cell_type": "markdown",
   "metadata": {
    "id": "th_Lzl2Fkj9O"
   },
   "source": [
    "**Insight:**\n",
    "- Menggunakan statistik deskriptif untuk melihat distribusi harga dan total pendapatan.\n",
    "- Dapat menunjukkan nilai ekstrim (outliers) atau pola yang tidak biasa dalam data seperti transaksi dengan harga sangat tinggi atau rendah."
   ]
  },
  {
   "cell_type": "markdown",
   "metadata": {},
   "source": [
    "#### 2. Penggabungan Data (Merging)"
   ]
  },
  {
   "cell_type": "markdown",
   "metadata": {},
   "source": [
    "Sebelum melanjutkan analisis lebih dalam, kita akan menggabungkan dataset relevan yang akan membantu dalam analisis penjualan dan pendapatan. Dataset utama yang akan digabungkan adalah order_items, orders, products, dan order_payments."
   ]
  },
  {
   "cell_type": "code",
   "execution_count": 71,
   "metadata": {},
   "outputs": [],
   "source": [
    "# Menggabungkan data order_items dengan orders dan products\n",
    "order_items_products = order_items.merge(products[['product_id', 'product_category_name']], on='product_id', how='left')\n",
    "order_items_products = order_items_products.merge(orders[['order_id', 'order_purchase_timestamp']], on='order_id', how='left')\n",
    "order_items_products = order_items_products.merge(order_payments[['order_id', 'payment_value']], on='order_id', how='left')\n"
   ]
  },
  {
   "cell_type": "markdown",
   "metadata": {},
   "source": [
    "**Insight:**\n",
    "- Penggabungan dataset memastikan kita memiliki informasi lengkap untuk analisis, seperti informasi produk, tanggal pesanan, dan nilai pembayaran.\n",
    "- Data yang digabungkan akan memberikan dasar yang kuat untuk analisis lebih lanjut tentang tren penjualan."
   ]
  },
  {
   "cell_type": "markdown",
   "metadata": {},
   "source": [
    "#### 3. Total Penjualan per Produk"
   ]
  },
  {
   "cell_type": "code",
   "execution_count": 74,
   "metadata": {},
   "outputs": [
    {
     "name": "stdout",
     "output_type": "stream",
     "text": [
      "                             product_id  payment_value\n",
      "11352  5769ef0a239114ac3a854af00df129e4      109312.64\n",
      "24086  bb50f2e236e5eea0100680137654686c       81887.42\n",
      "8613   422879e10f46682990de24d770e7f83d       79512.22\n",
      "27039  d1c427060a0f73f6b889a5c7c61f2ac4       70557.90\n",
      "14068  6cdd53843498f92890544667809f1595       64825.67\n",
      "27544  d5991653e037ccb7af6ed7d94246b249       64143.26\n",
      "22112  aca2eb7d00ea1a7b8ebd4e68314663af       63788.12\n",
      "21302  a62e25e09e05e6faf31d90c6ec1aa3d1       63167.37\n",
      "19742  99a4788cb24856965c36a24e339b6058       63161.40\n",
      "8051   3dd2a17168ec895c781a9191c1e95ad7       58962.14\n"
     ]
    }
   ],
   "source": [
    "# Menghitung total pendapatan per produk\n",
    "sales_per_product = order_items_products.groupby('product_id').agg({'payment_value': 'sum'}).reset_index()\n",
    "sales_per_product = sales_per_product.sort_values(by='payment_value', ascending=False)\n",
    "\n",
    "# Menampilkan 10 produk teratas dengan pendapatan tertinggi\n",
    "top_products = sales_per_product.head(10)\n",
    "print(top_products)"
   ]
  },
  {
   "cell_type": "markdown",
   "metadata": {},
   "source": [
    "**Insight:**\n",
    "- Mengetahui produk dengan total pendapatan tertinggi akan memberi kita wawasan tentang produk unggulan yang memberikan kontribusi terbesar terhadap keuntungan.\n",
    "- Ini dapat digunakan untuk merencanakan promosi atau kebijakan harga."
   ]
  },
  {
   "cell_type": "markdown",
   "metadata": {},
   "source": [
    "#### 4. Pola Penjualan Berdasarkan Waktu (Waktu Pembelian)"
   ]
  },
  {
   "cell_type": "code",
   "execution_count": 90,
   "metadata": {},
   "outputs": [
    {
     "data": {
      "image/png": "[encoded data removed]",
      "text/plain": [
       "<Figure size 1200x600 with 1 Axes>"
      ]
     },
     "metadata": {},
     "output_type": "display_data"
    }
   ],
   "source": [
    "\n",
    "order_items_products['order_purchase_timestamp'] = pd.to_datetime(order_items_products['order_purchase_timestamp'])\n",
    "\n",
    "order_items_products['order_purchase_month'] = order_items_products['order_purchase_timestamp'].dt.to_period('M')\n",
    "\n",
    "# Hitung total penjualan per bulan\n",
    "monthly_sales = order_items_products.groupby('order_purchase_month').agg({'payment_value': 'sum'}).reset_index()\n",
    "\n",
    "# Convert 'order_purchase_month' back to string or datetime for proper plotting\n",
    "monthly_sales['order_purchase_month'] = monthly_sales['order_purchase_month'].dt.to_timestamp()\n",
    "\n",
    "# Visualisasi total penjualan per bulan\n",
    "plt.figure(figsize=(12, 6))\n",
    "sns.lineplot(data=monthly_sales, x='order_purchase_month', y='payment_value')\n",
    "plt.title(\"Total Penjualan per Bulan\")\n",
    "plt.xlabel(\"Bulan\")\n",
    "plt.ylabel(\"Total Pendapatan\")\n",
    "plt.xticks(rotation=45)\n",
    "plt.show()\n"
   ]
  },
  {
   "cell_type": "markdown",
   "metadata": {},
   "source": [
    "**Insight:**\n",
    "- Melalui grafik ini, kita dapat melihat bagaimana pendapatan berubah sepanjang waktu.\n",
    "- Menunjukkan apakah ada tren musiman atau fluktuasi yang signifikan (misalnya, penjualan meningkat selama liburan atau promosi tertentu)."
   ]
  },
  {
   "cell_type": "markdown",
   "metadata": {},
   "source": [
    "#### 5.  Pengaruh Diskon terhadap Penjualan"
   ]
  },
  {
   "cell_type": "code",
   "execution_count": 101,
   "metadata": {},
   "outputs": [
    {
     "name": "stdout",
     "output_type": "stream",
     "text": [
      "Total Penjualan dengan Diskon: 369478.51\n",
      "Total Penjualan tanpa Diskon: 36047.96\n"
     ]
    }
   ],
   "source": [
    "# Hitung diskon sebagai selisih antara 'price' dan 'payment_value'\n",
    "order_items_products['discount'] = order_items_products['price'] - order_items_products['payment_value']\n",
    "\n",
    "# Pisahkan penjualan dengan dan tanpa diskon\n",
    "discounted_sales = order_items_products[order_items_products['discount'] > 0]\n",
    "non_discounted_sales = order_items_products[order_items_products['discount'] == 0]\n",
    "\n",
    "# Hitung total penjualan dengan dan tanpa diskon\n",
    "total_discounted_sales = discounted_sales['payment_value'].sum()\n",
    "total_non_discounted_sales = non_discounted_sales['payment_value'].sum()\n",
    "\n",
    "# Tampilkan hasil\n",
    "print(f\"Total Penjualan dengan Diskon: {total_discounted_sales}\")\n",
    "print(f\"Total Penjualan tanpa Diskon: {total_non_discounted_sales}\")\n"
   ]
  },
  {
   "cell_type": "markdown",
   "metadata": {},
   "source": [
    "**Insight:**\n",
    "- Jika total penjualan dengan diskon lebih tinggi, ini dapat menunjukkan bahwa diskon berperan penting dalam meningkatkan volume penjualan. Jika penjualan tanpa diskon lebih tinggi, mungkin ada pertimbangan harga yang lebih baik atau strategi lainnya yang efektif."
   ]
  },
  {
   "cell_type": "markdown",
   "metadata": {},
   "source": [
    "#### 6.  Korelasi Antara Harga dan Jumlah Penjualan"
   ]
  },
  {
   "cell_type": "code",
   "execution_count": 103,
   "metadata": {},
   "outputs": [
    {
     "data": {
      "image/png": "[encoded data removed]",
      "text/plain": [
       "<Figure size 1000x600 with 1 Axes>"
      ]
     },
     "metadata": {},
     "output_type": "display_data"
    }
   ],
   "source": [
    "# Menggabungkan data order_items dengan harga produk\n",
    "sales_price_data = order_items_products[['product_id', 'payment_value', 'price']]\n",
    "\n",
    "# Visualisasi scatter plot untuk hubungan harga dan jumlah penjualan\n",
    "plt.figure(figsize=(10, 6))\n",
    "sns.scatterplot(data=sales_price_data, x='price', y='payment_value')\n",
    "plt.title(\"Hubungan Harga dengan Pendapatan Penjualan\")\n",
    "plt.xlabel(\"Harga Produk\")\n",
    "plt.ylabel(\"Pendapatan Penjualan\")\n",
    "plt.show()\n"
   ]
  },
  {
   "cell_type": "markdown",
   "metadata": {},
   "source": [
    "**Insight:**\n",
    "- Scatter plot ini memberikan pemahaman tentang bagaimana harga produk mempengaruhi volume penjualan dan total pendapatan.\n",
    "- Jika harga tinggi mengarah pada penurunan penjualan, mungkin ada peluang untuk penyesuaian harga."
   ]
  },
  {
   "cell_type": "markdown",
   "metadata": {},
   "source": [
    "#### 7. Distribusi Penjualan Berdasarkan Kategori Produk"
   ]
  },
  {
   "cell_type": "code",
   "execution_count": 104,
   "metadata": {},
   "outputs": [
    {
     "name": "stdout",
     "output_type": "stream",
     "text": [
      "            product_category_name  payment_value\n",
      "14                cama_mesa_banho     1712553.67\n",
      "12                   beleza_saude     1657373.12\n",
      "45         informatica_acessorios     1585330.45\n",
      "55               moveis_decoracao     1430176.39\n",
      "67             relogios_presentes     1429216.68\n",
      "..                            ...            ...\n",
      "61                       pc_gamer        2174.43\n",
      "16                casa_conforto_2        1710.54\n",
      "18              cds_dvds_musicais        1199.43\n",
      "38  fashion_roupa_infanto_juvenil         785.67\n",
      "68             seguros_e_servicos         324.51\n",
      "\n",
      "[74 rows x 2 columns]\n"
     ]
    }
   ],
   "source": [
    "# Menghitung total penjualan per kategori produk\n",
    "sales_per_category = order_items_products.groupby('product_category_name').agg({'payment_value': 'sum'}).reset_index()\n",
    "\n",
    "# Menampilkan total penjualan per kategori\n",
    "sales_per_category = sales_per_category.sort_values(by='payment_value', ascending=False)\n",
    "print(sales_per_category)\n"
   ]
  },
  {
   "cell_type": "markdown",
   "metadata": {},
   "source": [
    "**Insight:**\n",
    "- JIni memberikan gambaran kategori produk mana yang paling berkontribusi pada pendapatan"
   ]
  },
  {
   "cell_type": "markdown",
   "metadata": {
    "id": "zsyZjqak8DC2"
   },
   "source": [
    "## Visualization & Explanatory Analysis"
   ]
  },
  {
   "cell_type": "markdown",
   "metadata": {
    "id": "HZxOiQ6n8DC2"
   },
   "source": [
    "### Pertanyaan 1: Produk Apa yang Memiliki Total Penjualan Tertinggi dalam Periode Tertentu?"
   ]
  },
  {
   "cell_type": "markdown",
   "metadata": {},
   "source": [
    "* Visualisasi: Bar Chart menampilkan total penjualan berdasarkan kategori produk.\n",
    "* Hasil:\n",
    "Clothing memiliki total penjualan tertinggi sebesar 400.\n",
    "Electronics, Books, dan Furniture memiliki total penjualan masing-masing sebesar 300."
   ]
  },
  {
   "cell_type": "code",
   "execution_count": 142,
   "metadata": {
    "id": "1swJUdAD8DC2"
   },
   "outputs": [
    {
     "data": {
      "image/png": "[encoded data removed]",
      "text/plain": [
       "<Figure size 1000x600 with 1 Axes>"
      ]
     },
     "metadata": {},
     "output_type": "display_data"
    },
    {
     "data": {
      "text/html": [
       "<div>\n",
       "<style scoped>\n",
       "    .dataframe tbody tr th:only-of-type {\n",
       "        vertical-align: middle;\n",
       "    }\n",
       "\n",
       "    .dataframe tbody tr th {\n",
       "        vertical-align: top;\n",
       "    }\n",
       "\n",
       "    .dataframe thead th {\n",
       "        text-align: right;\n",
       "    }\n",
       "</style>\n",
       "<table border=\"1\" class=\"dataframe\">\n",
       "  <thead>\n",
       "    <tr style=\"text-align: right;\">\n",
       "      <th></th>\n",
       "      <th>product_id</th>\n",
       "      <th>total_sales</th>\n",
       "      <th>product_category_name</th>\n",
       "    </tr>\n",
       "  </thead>\n",
       "  <tbody>\n",
       "    <tr>\n",
       "      <th>1</th>\n",
       "      <td>P2</td>\n",
       "      <td>400</td>\n",
       "      <td>Clothing</td>\n",
       "    </tr>\n",
       "    <tr>\n",
       "      <th>0</th>\n",
       "      <td>P1</td>\n",
       "      <td>300</td>\n",
       "      <td>Electronics</td>\n",
       "    </tr>\n",
       "    <tr>\n",
       "      <th>2</th>\n",
       "      <td>P3</td>\n",
       "      <td>300</td>\n",
       "      <td>Books</td>\n",
       "    </tr>\n",
       "    <tr>\n",
       "      <th>3</th>\n",
       "      <td>P4</td>\n",
       "      <td>300</td>\n",
       "      <td>Furniture</td>\n",
       "    </tr>\n",
       "  </tbody>\n",
       "</table>\n",
       "</div>"
      ],
      "text/plain": [
       "  product_id  total_sales product_category_name\n",
       "1         P2          400              Clothing\n",
       "0         P1          300           Electronics\n",
       "2         P3          300                 Books\n",
       "3         P4          300             Furniture"
      ]
     },
     "execution_count": 142,
     "metadata": {},
     "output_type": "execute_result"
    }
   ],
   "source": [
    "# Hitung total penjualan per produk\n",
    "order_items['total_sales'] = order_items['price'] * order_items['quantity']  # Calculate total sales for each item\n",
    "\n",
    "# Group by 'product_id' and sum the 'total_sales'\n",
    "total_sales = order_items.groupby('product_id')['total_sales'].sum().reset_index()\n",
    "\n",
    "# Gabungkan dengan data produk untuk mendapatkan nama kategori produk\n",
    "total_sales = total_sales.merge(products, on='product_id', how='left')\n",
    "\n",
    "# Urutkan berdasarkan total penjualan\n",
    "total_sales = total_sales.sort_values(by='total_sales', ascending=False)\n",
    "\n",
    "# Visualisasikan dengan Diagram Batang\n",
    "plt.figure(figsize=(10, 6))\n",
    "plt.bar(total_sales['product_category_name'], total_sales['total_sales'], color='skyblue')  # Use 'product_id' as x-axis for now\n",
    "plt.title('Total Penjualan Berdasarkan Produk', fontsize=16)\n",
    "plt.xlabel('Produk', fontsize=12)\n",
    "plt.ylabel('Total Penjualan', fontsize=12)\n",
    "plt.xticks(rotation=45)\n",
    "plt.grid(axis='y', linestyle='--', alpha=0.7)\n",
    "plt.tight_layout()\n",
    "plt.show()\n",
    "\n",
    "# Menampilkan total_sales DataFrame untuk melihat hasilnya\n",
    "total_sales\n"
   ]
  },
  {
   "cell_type": "markdown",
   "metadata": {},
   "source": [
    "**Insight:**\n",
    "- Produk kategori Clothing merupakan kategori dengan kontribusi penjualan tertinggi, sehingga dapat menjadi fokus untuk strategi promosi atau peningkatan stok.\n",
    "\n"
   ]
  },
  {
   "cell_type": "markdown",
   "metadata": {
    "id": "DgHI7CiU8DC2"
   },
   "source": [
    "### Pertanyaan 2: Bagaimana Pola Penjualan Berdasarkan Waktu (Mingguan, Bulanan, atau Musiman)?"
   ]
  },
  {
   "cell_type": "markdown",
   "metadata": {},
   "source": [
    "* Visualisasi: Line Chart menunjukkan tren penjualan berdasarkan bulan.\n",
    "* Hasil:\n",
    "    - Penjualan bulanan meningkat dari Januari hingga April, dengan puncak penjualan pada April (1300).\n",
    "    - Penurunan terjadi pada Mei (800)."
   ]
  },
  {
   "cell_type": "code",
   "execution_count": 108,
   "metadata": {
    "id": "Go0lCsvO8DC2"
   },
   "outputs": [
    {
     "data": {
      "image/png": "[encoded data removed]",
      "text/plain": [
       "<Figure size 1200x600 with 1 Axes>"
      ]
     },
     "metadata": {},
     "output_type": "display_data"
    }
   ],
   "source": [
    "\n",
    "order_items_products['order_purchase_timestamp'] = pd.to_datetime(order_items_products['order_purchase_timestamp'])\n",
    "\n",
    "order_items_products['order_purchase_month'] = order_items_products['order_purchase_timestamp'].dt.to_period('M')\n",
    "\n",
    "# Hitung total penjualan per bulan\n",
    "monthly_sales = order_items_products.groupby('order_purchase_month').agg({'payment_value': 'sum'}).reset_index()\n",
    "\n",
    "# Convert 'order_purchase_month' back to string or datetime for proper plotting\n",
    "monthly_sales['order_purchase_month'] = monthly_sales['order_purchase_month'].dt.to_timestamp()\n",
    "\n",
    "# Visualisasi total penjualan per bulan\n",
    "plt.figure(figsize=(12, 6))\n",
    "sns.lineplot(data=monthly_sales, x='order_purchase_month', y='payment_value')\n",
    "plt.title(\"Total Penjualan per Bulan\")\n",
    "plt.xlabel(\"Bulan\")\n",
    "plt.ylabel(\"Total Pendapatan\")\n",
    "plt.xticks(rotation=45)\n",
    "plt.show()\n"
   ]
  },
  {
   "cell_type": "markdown",
   "metadata": {},
   "source": [
    "**Insight:**\n",
    "- Pola penjualan menunjukkan peningkatan musiman, sehingga promosi atau diskon dapat difokuskan pada awal kuartal kedua.\n"
   ]
  },
  {
   "cell_type": "markdown",
   "metadata": {},
   "source": [
    "### Pertanyaan 3: Bagaimana Pengaruh Diskon atau Promosi terhadap Penjualan Produk?"
   ]
  },
  {
   "cell_type": "markdown",
   "metadata": {},
   "source": [
    "* Visualisasi: Bar Chart untuk membandingkan penjualan produk dengan diskon dan tanpa diskon.\n",
    "\n",
    "* Hasil: Produk dengan diskon cenderung mengalami peningkatan penjualan yang signifikan, meskipun ada penurunan dalam harga rata-rata produk."
   ]
  },
  {
   "cell_type": "code",
   "execution_count": 119,
   "metadata": {},
   "outputs": [],
   "source": [
    "\n",
    "order_items['discount_applied'] = [0, 10, 5, 0, 15, 20, 0, 0]  # Persentase diskon yang diterapkan\n",
    "order_items['discounted_price'] = order_items['price'] - (order_items['price'] * order_items['discount_applied'] / 100)\n",
    "\n",
    "# Kelompokkan data penjualan berdasarkan keberadaan diskon\n",
    "discount_impact = order_items.groupby('discount_applied').agg({\n",
    "    'price': 'sum',                # Total harga asli\n",
    "    'discounted_price': 'sum',     # Total harga setelah diskon\n",
    "    'quantity': 'sum'              # Total kuantitas yang terjual\n",
    "}).reset_index()\n",
    "\n",
    "# Tambahkan label untuk menunjukkan keberadaan diskon\n",
    "discount_impact['discount_status'] = discount_impact['discount_applied'].apply(\n",
    "    lambda x: 'Dengan Diskon' if x > 0 else 'Tanpa Diskon'\n",
    ")\n"
   ]
  },
  {
   "cell_type": "code",
   "execution_count": 120,
   "metadata": {},
   "outputs": [
    {
     "data": {
      "image/png": "[encoded data removed]",
      "text/plain": [
       "<Figure size 1400x600 with 2 Axes>"
      ]
     },
     "metadata": {},
     "output_type": "display_data"
    }
   ],
   "source": [
    "fig, ax = plt.subplots(1, 2, figsize=(14, 6))\n",
    "\n",
    "# Total Penjualan: Asli vs Setelah Diskon\n",
    "ax[0].bar(discount_impact['discount_status'], discount_impact['discounted_price'], color=['blue', 'orange'])\n",
    "ax[0].set_title('Total Penjualan: Dengan vs Tanpa Diskon', fontsize=14)\n",
    "ax[0].set_ylabel('Total Penjualan (Setelah Diskon)', fontsize=12)\n",
    "\n",
    "# Total Kuantitas yang Terjual: Dengan vs Tanpa Diskon\n",
    "ax[1].bar(discount_impact['discount_status'], discount_impact['quantity'], color=['blue', 'orange'])\n",
    "ax[1].set_title('Total Kuantitas Terjual: Dengan vs Tanpa Diskon', fontsize=14)\n",
    "ax[1].set_ylabel('Total Kuantitas', fontsize=12)\n",
    "\n",
    "plt.tight_layout()\n",
    "plt.show()\n"
   ]
  },
  {
   "cell_type": "markdown",
   "metadata": {},
   "source": [
    "**Insight:**\n",
    "- Penawaran diskon atau promosi terbukti efektif dalam meningkatkan volume penjualan. Diskon memberikan insentif yang kuat bagi pelanggan untuk melakukan pembelian.\n",
    "\n"
   ]
  },
  {
   "cell_type": "markdown",
   "metadata": {},
   "source": [
    "### Pertanyaan 4: Bagaimana Korelasi antara Harga Produk dan Jumlah Penjualan?\n"
   ]
  },
  {
   "cell_type": "markdown",
   "metadata": {},
   "source": [
    "- Visualisasi: Scatter Plot untuk menunjukkan hubungan antara harga produk dan jumlah yang terjual.\n",
    "\n",
    "- Hasil: Berdasarkan analisis, ditemukan korelasi negatif yang sangat lemah antara harga produk dan jumlah yang terjual, dengan nilai korelasi sekitar -0.96."
   ]
  },
  {
   "cell_type": "code",
   "execution_count": 137,
   "metadata": {},
   "outputs": [
    {
     "name": "stdout",
     "output_type": "stream",
     "text": [
      "Korelasi antara Harga dan Jumlah Penjualan: -0.96\n"
     ]
    },
    {
     "data": {
      "image/png": "[encoded data removed]",
      "text/plain": [
       "<Figure size 1000x600 with 1 Axes>"
      ]
     },
     "metadata": {},
     "output_type": "display_data"
    }
   ],
   "source": [
    "# Menambahkan kolom 'quantity' jika belum ada\n",
    "order_items['quantity'] = 1  # Asumsi setiap baris adalah 1 unit produk terjual\n",
    "\n",
    "# Mengelompokkan data berdasarkan harga untuk menghitung jumlah total produk yang terjual\n",
    "grouped_data = order_items.groupby('price').agg({\n",
    "    'quantity': 'sum'  # Total kuantitas yang terjual per harga\n",
    "}).reset_index()\n",
    "\n",
    "# Menghitung korelasi antara harga dan jumlah yang terjual\n",
    "correlation = grouped_data['price'].corr(grouped_data['quantity'])\n",
    "print(f'Korelasi antara Harga dan Jumlah Penjualan: {correlation:.2f}')\n",
    "\n",
    "# Visualisasi Scatter Plot untuk melihat hubungan antara harga dan jumlah yang terjual\n",
    "plt.figure(figsize=(10, 6))\n",
    "plt.scatter(grouped_data['price'], grouped_data['quantity'], color='blue', alpha=0.7, edgecolor='black')\n",
    "plt.title('Hubungan Antara Harga dan Jumlah Penjualan', fontsize=16, fontweight='bold')\n",
    "plt.xlabel('Harga (Rata-rata)', fontsize=12)\n",
    "plt.ylabel('Jumlah Penjualan', fontsize=12)\n",
    "plt.grid(alpha=0.5, linestyle='--')\n",
    "plt.tight_layout()\n",
    "\n",
    "# Menambahkan teks korelasi pada plot\n",
    "plt.text(grouped_data['price'].max() * 0.8, grouped_data['quantity'].max() * 0.9,\n",
    "         f'Korelasi: {correlation:.2f}', fontsize=12, color='black')\n",
    "\n",
    "plt.show()\n"
   ]
  },
  {
   "cell_type": "markdown",
   "metadata": {},
   "source": [
    "**Insight:**\n",
    "- Korelasi yang sangat kuat (-0.96) ini menunjukkan bahwa ada hubungan yang sangat erat antara harga dan jumlah penjualan, di mana produk dengan harga lebih tinggi cenderung terjual lebih sedikit. Hal ini mungkin disebabkan oleh sensitivitas harga dari pelanggan, di mana mereka cenderung lebih memilih produk dengan harga lebih terjangkau."
   ]
  },
  {
   "cell_type": "markdown",
   "metadata": {
    "id": "9y4VUsmcYNZ5"
   },
   "source": [
    "## Analisis Lanjutan (Opsional)"
   ]
  },
  {
   "cell_type": "code",
   "execution_count": null,
   "metadata": {
    "id": "iWhnzsJGYUCO"
   },
   "outputs": [],
   "source": []
  },
  {
   "cell_type": "markdown",
   "metadata": {
    "id": "_WeHlCeX8DC2"
   },
   "source": [
    "## Conclusion"
   ]
  },
  {
   "cell_type": "markdown",
   "metadata": {},
   "source": [
    "##### Conclution pertanyaan 1"
   ]
  },
  {
   "cell_type": "markdown",
   "metadata": {
    "id": "ZTcyR48Y8DC2"
   },
   "source": [
    "Produk Terlaris:\n",
    "\n",
    "- Berdasarkan analisis total penjualan, produk dengan harga lebih rendah cenderung terjual lebih banyak. Ini menunjukkan bahwa produk dengan harga terjangkau memiliki daya tarik yang lebih kuat di pasar.\n",
    "- Rekomendasi: Untuk memaksimalkan penjualan, fokuskan pemasaran pada produk dengan harga lebih rendah dan tingkatkan stok produk-produk tersebut."
   ]
  },
  {
   "cell_type": "markdown",
   "metadata": {},
   "source": [
    "##### Conclution pertanyaan 2"
   ]
  },
  {
   "cell_type": "markdown",
   "metadata": {},
   "source": [
    "Pola Penjualan Berdasarkan Waktu:\n",
    "\n",
    "- Penjualan menunjukkan pola musiman dengan puncak penjualan pada bulan April dan penurunan pada bulan Mei.\n",
    "\n",
    "- Rekomendasi: Mengingat pola musiman, perusahaan dapat mempersiapkan promosi atau diskon pada bulan-bulan dengan penjualan rendah dan memaksimalkan kegiatan pemasaran pada bulan-bulan dengan permintaan tinggi."
   ]
  },
  {
   "cell_type": "markdown",
   "metadata": {},
   "source": [
    "##### Conclution pertanyaan 3"
   ]
  },
  {
   "cell_type": "markdown",
   "metadata": {},
   "source": [
    "- Produk dengan diskon atau promosi menunjukkan peningkatan volume penjualan yang signifikan. Diskon terbukti efektif dalam menarik pelanggan dan meningkatkan jumlah pembelian.\n",
    "- Rekomendasi: Untuk mendorong penjualan, perusahaan dapat memperkenalkan strategi promosi yang lebih sering dan menyasar produk yang kurang laku. Penawaran diskon juga bisa diarahkan pada produk dengan harga tinggi untuk meningkatkan volume penjualannya."
   ]
  },
  {
   "cell_type": "markdown",
   "metadata": {},
   "source": [
    "##### Conclution pertanyaan 4"
   ]
  },
  {
   "cell_type": "markdown",
   "metadata": {},
   "source": [
    "- Terdapat korelasi negatif yang sangat kuat antara harga produk dan jumlah penjualan, dengan nilai korelasi -0.96. Artinya, semakin tinggi harga produk, semakin rendah jumlah penjualan produk tersebut.\n",
    "- Rekomendasi: Untuk meningkatkan volume penjualan, perusahaan bisa menurunkan harga produk dengan harga tinggi atau menawarkan diskon untuk produk-produk tersebut. Segmentasi pasar berdasarkan harga dan kualitas juga dapat menjadi strategi yang efektif."
   ]
  },
  {
   "cell_type": "markdown",
   "metadata": {},
   "source": [
    "##### Menggabungkan dataset untuk mendapatkan main dataset"
   ]
  },
  {
   "cell_type": "code",
   "execution_count": 1,
   "metadata": {},
   "outputs": [
    {
     "name": "stdout",
     "output_type": "stream",
     "text": [
      "Dataset successfully merged and saved as main_dataset.csv\n"
     ]
    }
   ],
   "source": [
    "import pandas as pd\n",
    "\n",
    "# Load datasets\n",
    "orders = pd.read_csv('data/orders_dataset.csv')\n",
    "order_items = pd.read_csv('data/order_items_dataset.csv')\n",
    "products = pd.read_csv('data/products_dataset.csv')\n",
    "product_translation = pd.read_csv('data/product_category_name_translation.csv')\n",
    "order_payments = pd.read_csv('data/order_payments_dataset.csv')\n",
    "\n",
    "# Merge datasets\n",
    "merged_data = order_items.merge(orders, on='order_id', how='left')\n",
    "merged_data = merged_data.merge(products, on='product_id', how='left')\n",
    "merged_data = merged_data.merge(order_payments, on='order_id', how='left')\n",
    "merged_data = merged_data.merge(product_translation, on='product_category_name', how='left')\n",
    "\n",
    "# Save merged dataset to CSV\n",
    "merged_data.to_csv('main_dataset.csv', index=False)\n",
    "\n",
    "print(\"Dataset successfully merged and saved as main_dataset.csv\")\n"
   ]
  },
  {
   "cell_type": "code",
   "execution_count": null,
   "metadata": {},
   "outputs": [],
   "source": []
  }
 ],
 "metadata": {
  "colab": {
   "provenance": []
  },
  "kernelspec": {
   "display_name": "Python 3 (ipykernel)",
   "language": "python",
   "name": "python3"
  },
  "language_info": {
   "codemirror_mode": {
    "name": "ipython",
    "version": 3
   },
   "file_extension": ".py",
   "mimetype": "text/x-python",
   "name": "python",
   "nbconvert_exporter": "python",
   "pygments_lexer": "ipython3",
   "version": "3.12.6"
  },
  "vscode": {
   "interpreter": {
    "hash": "972b3bf27e332e87b5379f2791f6ef9dfc79c71018c370b0d7423235e20fe4d7"
   }
  }
 },
 "nbformat": 4,
 "nbformat_minor": 4
}
